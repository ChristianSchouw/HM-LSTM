{
  "nbformat": 4,
  "nbformat_minor": 0,
  "metadata": {
    "colab": {
      "name": "DeepLearningProject.ipynb",
      "provenance": [],
      "collapsed_sections": [],
      "machine_shape": "hm"
    },
    "kernelspec": {
      "name": "python3",
      "display_name": "Python 3"
    },
    "accelerator": "GPU"
  },
  "cells": [
    {
      "cell_type": "markdown",
      "metadata": {
        "id": "N_nvMfJlmAXh",
        "colab_type": "text"
      },
      "source": [
        "# Deep Bioinformatics project"
      ]
    },
    {
      "cell_type": "code",
      "metadata": {
        "id": "sJFILejsh027",
        "colab_type": "code",
        "colab": {}
      },
      "source": [
        "import matplotlib\n",
        "import numpy as np\n",
        "import pandas as pd\n",
        "import matplotlib.pyplot as plt\n",
        "import glob\n",
        "import os\n",
        "import torch\n",
        "import pickle as pkl\n",
        "import time\n",
        "from IPython.display import clear_output\n",
        "from skimage.io import imread\n",
        "from skimage.transform import resize\n",
        "from torch.autograd import Variable\n",
        "import torch.nn as nn\n",
        "import torch.optim as optim\n",
        "from torch.nn import Linear, GRU, Dropout, BatchNorm1d, LSTM\n",
        "from torch.nn.functional import relu, elu, relu6, sigmoid, tanh, softmax"
      ],
      "execution_count": 0,
      "outputs": []
    },
    {
      "cell_type": "markdown",
      "metadata": {
        "id": "gO9Xzj5qllwk",
        "colab_type": "text"
      },
      "source": [
        "## data import"
      ]
    },
    {
      "cell_type": "code",
      "metadata": {
        "id": "-OeuiP5qlkPx",
        "colab_type": "code",
        "colab": {}
      },
      "source": [
        "# Load the Drive helper and mount\n",
        "#from google.colab import drive\n",
        "\n",
        "# This will prompt for authorization.\n",
        "#drive.mount('/content/drive')\n",
        "\n",
        "#root_path = '/content/drive/My Drive/Deep_stuff/'  #change dir to your project folder\n",
        "\n",
        "\n"
      ],
      "execution_count": 0,
      "outputs": []
    },
    {
      "cell_type": "markdown",
      "metadata": {
        "id": "RZt1sdXI3G6Y",
        "colab_type": "text"
      },
      "source": [
        "## Use cuda"
      ]
    },
    {
      "cell_type": "code",
      "metadata": {
        "id": "sMWLPu3j3K_6",
        "colab_type": "code",
        "outputId": "d88fd0b9-3c10-4b56-9894-f6b4f76db40b",
        "colab": {
          "base_uri": "https://localhost:8080/",
          "height": 34
        }
      },
      "source": [
        "torch.cuda.empty_cache()\n",
        "\n",
        "use_cuda = torch.cuda.is_available()\n",
        "print(\"Running GPU.\") if use_cuda else print(\"No GPU available.\")\n",
        "\n",
        "\n",
        "def get_variable(x):\n",
        "    \"\"\" Converts tensors to cuda, if available. \"\"\"\n",
        "    if use_cuda:\n",
        "        return x.cuda()\n",
        "    return x\n",
        "\n",
        "\n",
        "def get_numpy(x):\n",
        "    \"\"\" Get numpy array for both cuda and not. \"\"\"\n",
        "    if use_cuda:\n",
        "        return x.cpu().data.numpy()\n",
        "    return x.data.numpy()"
      ],
      "execution_count": 0,
      "outputs": [
        {
          "output_type": "stream",
          "text": [
            "Running GPU.\n"
          ],
          "name": "stdout"
        }
      ]
    },
    {
      "cell_type": "markdown",
      "metadata": {
        "id": "0TB4LjdDa2XF",
        "colab_type": "text"
      },
      "source": [
        "## Data (Penn Treebank)"
      ]
    },
    {
      "cell_type": "code",
      "metadata": {
        "id": "YpZrNjHAbCuY",
        "colab_type": "code",
        "outputId": "5ffd117f-ac84-4927-947b-384bb7cf1508",
        "colab": {
          "base_uri": "https://localhost:8080/",
          "height": 221
        }
      },
      "source": [
        "from torchtext import data\n",
        "from torchtext import datasets\n",
        "from torchtext.vocab import GloVe\n",
        "def tokenize(lines):\n",
        "  return [line for line in lines]\n",
        "# Approach 1:\n",
        "# set up fields\n",
        "TEXT = data.Field(lower=True,tokenize=tokenize, batch_first=True)\n",
        "\n",
        "# make splits for data\n",
        "train, valid, test = datasets.PennTreebank.splits(TEXT)\n",
        "\n",
        "# print information about the data\n",
        "print('train.fields', train.fields)\n",
        "print('len(train)', len(train))\n",
        "print('vars(train[0])', vars(train[0])['text'][0:10])\n",
        "\n",
        "# build the vocabulary\n",
        "TEXT.build_vocab(train, vectors=GloVe(name='6B', dim=300)) # GloVe is a better version of Word2Vec, it is a general thing. \n",
        "# 100 for the dimension of the embedding is suitable. Better not to use GloVe as it is too general\n",
        "# We will do embeddings also with the protein dataset\n",
        "\n",
        "# print vocab information\n",
        "print('len(TEXT.vocab)', len(TEXT.vocab))\n",
        "\n",
        "vars(train[0])['text'] = vars(train[0])['text'][0:10000]\n",
        "vars(valid[0])['text'] = vars(test[0])['text'][0:2000]\n",
        "vars(test[0])['text'] = vars(test[0])['text'][0:1000]\n",
        "# make iterator for splits\n",
        "train_iter, valid_iter, test_iter = data.BPTTIterator.splits(\n",
        "    #(train, valid, test), batch_size=3, bptt_len=30)\n",
        "    (train, valid, test), batch_size=32, bptt_len=64)\n",
        "\n",
        "# batch_size = number of sentences // bptt (back propagation through time) = number of words per sentence\n",
        "\n",
        "# print batch information\n",
        "batch = next(iter(train_iter))\n",
        "print(vars(train[0])['text'][0:10])"
      ],
      "execution_count": 0,
      "outputs": [
        {
          "output_type": "stream",
          "text": [
            "downloading ptb.train.txt\n"
          ],
          "name": "stdout"
        },
        {
          "output_type": "stream",
          "text": [
            "ptb.train.txt: 5.10MB [00:00, 32.3MB/s]\n",
            "ptb.valid.txt:   0%|          | 0.00/135k [00:00<?, ?B/s]"
          ],
          "name": "stderr"
        },
        {
          "output_type": "stream",
          "text": [
            "downloading ptb.valid.txt\n"
          ],
          "name": "stdout"
        },
        {
          "output_type": "stream",
          "text": [
            "\rptb.valid.txt: 400kB [00:00, 18.7MB/s]                   \n"
          ],
          "name": "stderr"
        },
        {
          "output_type": "stream",
          "text": [
            "downloading ptb.test.txt\n"
          ],
          "name": "stdout"
        },
        {
          "output_type": "stream",
          "text": [
            "ptb.test.txt: 450kB [00:00, 18.9MB/s]                   \n",
            ".vector_cache/glove.6B.zip: 0.00B [00:00, ?B/s]"
          ],
          "name": "stderr"
        },
        {
          "output_type": "stream",
          "text": [
            "train.fields {'text': <torchtext.data.field.Field object at 0x7f28b226dfd0>}\n",
            "len(train) 1\n",
            "vars(train[0]) [' ', 'a', 'e', 'r', ' ', 'b', 'a', 'n', 'k', 'n']\n"
          ],
          "name": "stdout"
        },
        {
          "output_type": "stream",
          "text": [
            ".vector_cache/glove.6B.zip: 862MB [06:26, 2.23MB/s]                          \n",
            "100%|█████████▉| 399188/400000 [00:46<00:00, 8140.60it/s]"
          ],
          "name": "stderr"
        },
        {
          "output_type": "stream",
          "text": [
            "len(TEXT.vocab) 51\n",
            "[' ', 'a', 'e', 'r', ' ', 'b', 'a', 'n', 'k', 'n']\n"
          ],
          "name": "stdout"
        }
      ]
    },
    {
      "cell_type": "code",
      "metadata": {
        "id": "Sx-BRfyP2sRr",
        "colab_type": "code",
        "colab": {}
      },
      "source": [
        "\n",
        "#vars(train[0])['text'] = vars(train[0])['text'][0:50000]\n",
        "#print(len(vars(train[0])['text']))\n",
        "# print(batch_size)"
      ],
      "execution_count": 0,
      "outputs": []
    },
    {
      "cell_type": "markdown",
      "metadata": {
        "id": "o8ngcxc-ZD5a",
        "colab_type": "text"
      },
      "source": [
        "HM_LSTM"
      ]
    },
    {
      "cell_type": "code",
      "metadata": {
        "id": "sRNoR6oIZEeS",
        "colab_type": "code",
        "colab": {}
      },
      "source": [
        "import torch\n",
        "from torch.autograd import Function, Variable\n",
        "import torch.nn.functional as Func\n",
        "from torch.nn import Module, Parameter\n",
        "import math\n",
        "import time\n",
        "import torch.optim as optim\n",
        "import numpy\n",
        "import torch.nn.functional as Func\n",
        "import os\n",
        "#from utils import reverse, batchify, get_batch, repackage_hidden, evaluatePTB\n",
        "\n",
        "hidden_dim = 200\n",
        "vocab_size = len(TEXT.vocab)\n",
        "bptt_len = 64\n",
        "embedding_size = 300\n",
        "out_dim = 500\n",
        "batch_size = 32\n",
        "def repackage_hidden(h):\n",
        "    if type(h) == Variable:\n",
        "        return Variable(h.data)\n",
        "    else:\n",
        "        return tuple(repackage_hidden(v) for v in h)\n",
        "def hard_sigm(a, x):\n",
        "    temp = torch.div(torch.add(torch.mul(x, a), 1), 2.0)\n",
        "    output = torch.clamp(temp, min=0, max=1)\n",
        "    return output\n",
        "\n",
        "class bound(Function):\n",
        "    def forward(self, x):\n",
        "        # forward : x -> output\n",
        "        self.save_for_backward(x)\n",
        "        output = x > 0.5\n",
        "        return output.float()\n",
        "\n",
        "    def backward(self, output_grad):\n",
        "        # backward: output_grad -> x_grad\n",
        "        x = self.saved_tensors\n",
        "        x_grad = None\n",
        "\n",
        "        if self.needs_input_grad[0]:\n",
        "            x_grad = output_grad.clone()\n",
        "\n",
        "        return x_grad\n",
        "\n",
        "class masked_NLLLoss(Module):\n",
        "    def __init__(self):\n",
        "        super(masked_NLLLoss, self).__init__()\n",
        "\n",
        "    def forward(self, cost, inputs, mask):\n",
        "        # inputs.size = mask.size = batch_size\n",
        "        # cost.size = batch_size * dict_size\n",
        "\n",
        "        # The following version is too slow, deprecated now\n",
        "        # loss = Variable(torch.zeros(inputs.size(0))).cuda()\n",
        "        # for i in range(inputs.size(0)):\n",
        "        #     loss[i] = - cost[i, inputs[i]] * mask[i]\n",
        "\n",
        "        # The following version is much faster\n",
        "        batch_size, dict_size = cost.size()\n",
        "        cost_flat = cost.view(batch_size*dict_size)\n",
        "        inputs_flat = torch.arange(0, inputs.size(0)).cuda().long()\n",
        "        inputs_flat_idx = torch.mul(inputs_flat, dict_size) + inputs\n",
        "        loss = -cost_flat[inputs_flat_idx] * mask\n",
        "        return loss\n",
        "\n",
        "class HM_LSTMCell(Module):\n",
        "    def __init__(self, bottom_size, hidden_size, top_size, a, last_layer):\n",
        "        super(HM_LSTMCell, self).__init__()\n",
        "        self.bottom_size = bottom_size\n",
        "        self.hidden_size = hidden_size\n",
        "        self.top_size = top_size\n",
        "        self.a = a\n",
        "        self.last_layer = last_layer\n",
        "        '''\n",
        "        U_11 means the state transition parameters from layer l (current layer) to layer l\n",
        "        U_21 means the state transition parameters from layer l+1 (top layer) to layer l\n",
        "        W_01 means the state transition parameters from layer l-1 (bottom layer) to layer l\n",
        "        '''\n",
        "        self.U_11 = Parameter(torch.cuda.FloatTensor(4 * self.hidden_size + 1, self.hidden_size))\n",
        "        if not self.last_layer:\n",
        "            self.U_21 = Parameter(torch.cuda.FloatTensor(4 * self.hidden_size + 1, self.top_size))\n",
        "        self.W_01 = Parameter(torch.cuda.FloatTensor(4 * self.hidden_size + 1, self.bottom_size))\n",
        "        self.bias = Parameter(torch.cuda.FloatTensor(4 * self.hidden_size + 1))\n",
        "\n",
        "        self.reset_parameters()\n",
        "\n",
        "    def reset_parameters(self):\n",
        "        stdv = 1.0 / math.sqrt(self.hidden_size)\n",
        "        for par in self.parameters():\n",
        "            par.data.uniform_(-stdv, stdv)\n",
        "\n",
        "    def forward(self, c, h_bottom, h, h_top, z, z_bottom):\n",
        "        # h_bottom.size = bottom_size * batch_size\n",
        "        s_recur = torch.mm(self.W_01, h_bottom)\n",
        "        if not self.last_layer:\n",
        "            s_topdown_ = torch.mm(self.U_21, h_top)\n",
        "            s_topdown = z.expand_as(s_topdown_) * s_topdown_\n",
        "        else:\n",
        "            s_topdown = Variable(torch.zeros(s_recur.size()).cuda(), requires_grad=False).cuda()\n",
        "        s_bottomup_ = torch.mm(self.U_11, h)\n",
        "        s_bottomup = z_bottom.expand_as(s_bottomup_) * s_bottomup_\n",
        "\n",
        "        f_s = s_recur + s_topdown + s_bottomup + self.bias.unsqueeze(1).expand_as(s_recur)\n",
        "        # f_s.size = (4 * hidden_size + 1) * batch_size\n",
        "        f = Func.sigmoid(f_s[0:self.hidden_size, :])  # hidden_size * batch_size\n",
        "        i = Func.sigmoid(f_s[self.hidden_size:self.hidden_size*2, :])\n",
        "        o = Func.sigmoid(f_s[self.hidden_size*2:self.hidden_size*3, :])\n",
        "        g = Func.tanh(f_s[self.hidden_size*3:self.hidden_size*4, :])\n",
        "        z_hat = hard_sigm(self.a, f_s[self.hidden_size*4:self.hidden_size*4+1, :])\n",
        "\n",
        "        one = Variable(torch.ones(f.size()).cuda(), requires_grad=False)\n",
        "        z = z.expand_as(f)\n",
        "        z_bottom = z_bottom.expand_as(f)\n",
        "\n",
        "        c_new = z * (i * g) + (one - z) * (one - z_bottom) * c + (one - z) * z_bottom * (f * c + i * g)\n",
        "        h_new = z * o * Func.tanh(c_new) + (one - z) * (one - z_bottom) * h + (one - z) * z_bottom * o * Func.tanh(c_new)\n",
        "\n",
        "        # if z == 1: (FLUSH)\n",
        "        #     c_new = i * g\n",
        "        #     h_new = o * Func.tanh(c_new)\n",
        "        # elif z_bottom == 0: (COPY)\n",
        "        #     c_new = c\n",
        "        #     h_new = h\n",
        "        # else: (UPDATE)\n",
        "        #     c_new = f * c + i * g\n",
        "        #     h_new = o * Func.tanh(c_new)\n",
        "\n",
        "        z_new = bound()(z_hat)\n",
        "\n",
        "        return h_new, c_new, z_new\n",
        "\n",
        "\n",
        "class HM_LSTM(Module):\n",
        "    def __init__(self, a, input_size, size_list):\n",
        "        super(HM_LSTM, self).__init__()\n",
        "        self.a = a\n",
        "        self.input_size = input_size\n",
        "        self.size_list = size_list\n",
        "\n",
        "        self.cell_1 = HM_LSTMCell(self.input_size, self.size_list[0], self.size_list[1], self.a, False)\n",
        "        self.cell_2 = HM_LSTMCell(self.size_list[0], self.size_list[1], None, self.a, True)\n",
        "\n",
        "    def forward(self, inputs, hidden):\n",
        "        # inputs.size = (batch_size, time steps, embed_size/input_size)\n",
        "        time_steps = inputs.size(1)\n",
        "        batch_size = inputs.size(0)\n",
        "\n",
        "        if hidden == None:\n",
        "            h_t1 = Variable(torch.zeros(self.size_list[0], batch_size).float().cuda(), requires_grad=False)\n",
        "            c_t1 = Variable(torch.zeros(self.size_list[0], batch_size).float().cuda(), requires_grad=False)\n",
        "            z_t1 = Variable(torch.zeros(1, batch_size).float().cuda(), requires_grad=False)\n",
        "            h_t2 = Variable(torch.zeros(self.size_list[1], batch_size).float().cuda(), requires_grad=False)\n",
        "            c_t2 = Variable(torch.zeros(self.size_list[1], batch_size).float().cuda(), requires_grad=False)\n",
        "            z_t2 = Variable(torch.zeros(1, batch_size).float().cuda(), requires_grad=False)\n",
        "        else:\n",
        "            (h_t1, c_t1, z_t1, h_t2, c_t2, z_t2) = hidden\n",
        "        z_one = Variable(torch.ones(1, batch_size).float().cuda(), requires_grad=False)\n",
        "\n",
        "        h_1 = []\n",
        "        h_2 = []\n",
        "        z_1 = []\n",
        "        z_2 = []\n",
        "        for t in range(time_steps):\n",
        "            h_t1, c_t1, z_t1 = self.cell_1(c=c_t1, h_bottom=inputs[:, t, :].t(), h=h_t1, h_top=h_t2, z=z_t1, z_bottom=z_one)\n",
        "            h_t2, c_t2, z_t2 = self.cell_2(c=c_t2, h_bottom=h_t1, h=h_t2, h_top=None, z=z_t2, z_bottom=z_t1)  # 0.01s used\n",
        "            h_1 += [h_t1.t()]\n",
        "            h_2 += [h_t2.t()]\n",
        "            z_1 += [z_t1.t()]\n",
        "            z_2 += [z_t2.t()]\n",
        "\n",
        "        hidden = (h_t1, c_t1, z_t1, h_t2, c_t2, z_t2)\n",
        "        return torch.stack(h_1, dim=1), torch.stack(h_2, dim=1), torch.stack(z_1, dim=1), torch.stack(z_2, dim=1), hidden\n",
        "\n",
        "class HM_Net(Module):\n",
        "    def __init__(self, a, size_list, dict_size, embed_size):\n",
        "        super(HM_Net, self).__init__()\n",
        "        self.dict_size = dict_size\n",
        "        self.size_list = size_list\n",
        "        self.drop = nn.Dropout(p=0.5)\n",
        "        self.embed_in = nn.Embedding(dict_size, embed_size)\n",
        "        self.HM_LSTM = HM_LSTM(a, embed_size, size_list)\n",
        "        self.weight = nn.Linear(size_list[0]+size_list[1], 2)\n",
        "        self.embed_out1 = nn.Linear(size_list[0], dict_size)\n",
        "        self.embed_out2 = nn.Linear(size_list[1], dict_size)\n",
        "        self.relu = nn.ReLU()\n",
        "        # self.logsoftmax = nn.LogSoftmax()\n",
        "        # self.loss = masked_NLLLoss()\n",
        "        self.loss = nn.CrossEntropyLoss()\n",
        "\n",
        "    def forward(self, inputs, target, hidden):\n",
        "        # inputs : batch_size * time_steps\n",
        "        # mask : batch_size * time_steps\n",
        "\n",
        "        emb = self.embed_in(Variable(inputs, volatile=not self.training))  # batch_size * time_steps * embed_size\n",
        "        emb = self.drop(emb)\n",
        "        h_1, h_2, z_1, z_2, hidden = self.HM_LSTM(emb, hidden)  # batch_size * time_steps * hidden_size\n",
        "\n",
        "        # mask = Variable(mask, requires_grad=False)\n",
        "        # batch_loss = Variable(torch.zeros(batch_size).cuda())\n",
        "\n",
        "        h_1 = self.drop(h_1)  # batch_size * time_steps * hidden_size\n",
        "        h_2 = self.drop(h_2)\n",
        "        h = torch.cat((h_1, h_2), 2)\n",
        "\n",
        "        g = Func.sigmoid(self.weight(h.view(h.size(0)*h.size(1), h.size(2))))\n",
        "        g_1 = g[:, 0:1]  # batch_size * time_steps, 1\n",
        "        g_2 = g[:, 1:2]\n",
        "\n",
        "        h_e1 = g_1.expand(g_1.size(0), self.dict_size)*self.embed_out1(h_1.view(h_1.size(0)*h_1.size(1), h_2.size(2)))\n",
        "        h_e2 = g_2.expand(g_2.size(0), self.dict_size)*self.embed_out2(h_2.view(h_2.size(0)*h_2.size(1), h_2.size(2)))\n",
        "\n",
        "        h_e = self.relu(h_e1 + h_e2)  # batch_size*time_steps, hidden_size\n",
        "        # target = target.view(-1).type(torch.cuda.LongTensor)\n",
        "        batch_loss = self.loss(h_e, Variable(target))\n",
        "\n",
        "        return batch_loss, hidden, z_1, z_2\n",
        "\n",
        "    def init_hidden(self, batch_size):\n",
        "        h_t1 = Variable(torch.zeros(self.size_list[0], batch_size).float().cuda(), requires_grad=False)\n",
        "        c_t1 = Variable(torch.zeros(self.size_list[0], batch_size).float().cuda(), requires_grad=False)\n",
        "        z_t1 = Variable(torch.zeros(1, batch_size).float().cuda(), requires_grad=False)\n",
        "        h_t2 = Variable(torch.zeros(self.size_list[1], batch_size).float().cuda(), requires_grad=False)\n",
        "        c_t2 = Variable(torch.zeros(self.size_list[1], batch_size).float().cuda(), requires_grad=False)\n",
        "        z_t2 = Variable(torch.zeros(1, batch_size).float().cuda(), requires_grad=False)\n",
        "\n",
        "        hidden = (h_t1, c_t1, z_t1, h_t2, c_t2, z_t2)\n",
        "        return hidden\n",
        "\n",
        "#net = HM_Net(0.5,[200,200],vocab_size, embedding_size)"
      ],
      "execution_count": 0,
      "outputs": []
    },
    {
      "cell_type": "markdown",
      "metadata": {
        "id": "mGWeZ7CoVtbZ",
        "colab_type": "text"
      },
      "source": [
        "## LSTM"
      ]
    },
    {
      "cell_type": "code",
      "metadata": {
        "id": "KSo3nHUNVT9c",
        "colab_type": "code",
        "outputId": "b0b8bc71-daa8-4bb5-dd02-bd171f21d85e",
        "colab": {
          "base_uri": "https://localhost:8080/",
          "height": 153
        }
      },
      "source": [
        "import torch\n",
        "import torch.nn as nn\n",
        "import torch.nn.functional as F\n",
        "\n",
        "hidden_dim = 200\n",
        "vocab_size = len(TEXT.vocab)\n",
        "bptt_len = 64\n",
        "embedding_size = 100\n",
        "out_dim = 500\n",
        "\n",
        "class Net(nn.Module):\n",
        "    def __init__(self):\n",
        "        super(Net, self).__init__()\n",
        "        \n",
        "        # Embedding layer\n",
        "        self.embedding = nn.Embedding(vocab_size, embedding_size) #vocab size, vector size\n",
        "        \n",
        "        # Recurrent layer\n",
        "        self.lstm = nn.LSTM(input_size = embedding_size,\n",
        "                           hidden_size = hidden_dim)\n",
        "        self.Dropout = nn.Dropout(0.2)\n",
        "        # Output layer\n",
        "\n",
        "        self.ff = nn.Linear(in_features = hidden_dim,\n",
        "                            out_features = out_dim,\n",
        "                            bias=False)\n",
        "        self.l_out = nn.Linear(in_features = hidden_dim,\n",
        "                            out_features = vocab_size,\n",
        "                            bias=False)\n",
        "        \n",
        "        self.batchnorm = nn.BatchNorm1d(num_features=hidden_dim)\n",
        "\n",
        "        #emb = embedded_dropout(self.encoder, input, dropout=self.dropoute if self.training else 0)\n",
        "        #emb = self.idrop(emb)\n",
        "        #emb = self.lockdrop(emb, self.dropouti)\n",
        "\n",
        "    def forward(self, x):\n",
        "        x = x.cuda()\n",
        "        x = self.embedding(x)\n",
        "\n",
        "        # RNN returns output and last hidden state\n",
        "\n",
        "        x, (h, c) = self.lstm(x)\n",
        "        \n",
        "\n",
        "        # Flatten output for feed-forward layer\n",
        "        x = x.view(-1, self.lstm.hidden_size)\n",
        "\n",
        "        x = self.batchnorm(x)\n",
        "\n",
        "        #x = self.ff(x)\n",
        "        #x = self.Dropout(x)\n",
        "        #x = relu(x)\n",
        "        x = self.l_out(x)\n",
        "        #x = relu(x)\n",
        "\n",
        "        return x\n",
        "\n",
        "net = Net()\n",
        "print(net)"
      ],
      "execution_count": 0,
      "outputs": [
        {
          "output_type": "stream",
          "text": [
            "Net(\n",
            "  (embedding): Embedding(51, 100)\n",
            "  (lstm): LSTM(100, 200)\n",
            "  (Dropout): Dropout(p=0.2, inplace=False)\n",
            "  (ff): Linear(in_features=200, out_features=500, bias=False)\n",
            "  (l_out): Linear(in_features=200, out_features=51, bias=False)\n",
            "  (batchnorm): BatchNorm1d(200, eps=1e-05, momentum=0.1, affine=True, track_running_stats=True)\n",
            ")\n"
          ],
          "name": "stdout"
        }
      ]
    },
    {
      "cell_type": "markdown",
      "metadata": {
        "id": "FQlYosG1V7iN",
        "colab_type": "text"
      },
      "source": [
        "## Training loop"
      ]
    },
    {
      "cell_type": "code",
      "metadata": {
        "id": "ehjt8tduV7HR",
        "colab_type": "code",
        "outputId": "dcfab57c-bf91-4c3c-9be1-33855ca98ce3",
        "colab": {
          "base_uri": "https://localhost:8080/",
          "height": 432
        }
      },
      "source": [
        "import warnings\n",
        "warnings.filterwarnings(\"ignore\")\n",
        "import torch.optim as optim\n",
        "\n",
        "# Train with cross entropy and at the end evaluate perplexity, similar to an accuracy measure\n",
        "\n",
        "# Hyper-parameters\n",
        "num_epochs = 3\n",
        "batch_size = 32\n",
        "clip = 1\n",
        "# Initialize a new network\n",
        "#net = Net()\n",
        "net = HM_Net(1,[512,512],vocab_size, embedding_size)\n",
        "net = net.cuda()\n",
        "\n",
        "# Define a loss function and optimizer for this problem\n",
        "criterion = nn.CrossEntropyLoss()\n",
        "optimizer = optim.Adam(net.parameters(), lr=0.0003) # ,weight_decay=0.001)\n",
        "#optimizer = optim.SGD(net.parameters(), lr=0.00001)\n",
        "\n",
        "# Track loss\n",
        "training_loss, validation_loss, BPC = [], [], []\n",
        "\n",
        "# For each epoch\n",
        "for i in range(num_epochs):\n",
        "    # Track loss\n",
        "    epoch_training_loss = 0\n",
        "    epoch_validation_loss = 0\n",
        "        \n",
        "    # For each sentence in validation set\n",
        "    #for text, target in valid_iter:\n",
        "    valid_sum=0\n",
        "    hidden = net.init_hidden(batch_size)\n",
        "    # print(hidden)\n",
        "    for j,batch in enumerate(valid_iter):\n",
        "        if j % 1000 ==0:\n",
        "          print(\"batch: \", j , \"out of \", len(valid_iter))\n",
        "        text = batch.text.cuda()\n",
        "        target = batch.target.cuda()\n",
        "        # hidden = repackage_hidden(hidden)\n",
        "        # Forward pass\n",
        "\n",
        "        #target = target.t()\n",
        "        text = text.t()\n",
        "        target = target.view(-1).type(torch.cuda.LongTensor)\n",
        "\n",
        "        net.eval()\n",
        "        output = net(text,target,hidden)\n",
        "        \n",
        "        #print(loss)\n",
        "        #target = target.view(-1).type(torch.cuda.LongTensor)\n",
        "        #target = target.view(-1).type(torch.LongTensor)\n",
        "        # Compute loss\n",
        "        #loss = criterion(outputs, target)\n",
        "        #print(loss[0])\n",
        "        # Update loss\n",
        "        # epoch_validation_loss += loss.detach().cpu().data.numpy()\n",
        "        epoch_validation_loss += output[0]\n",
        "\n",
        "        #valid_sum+=loss\n",
        "    net.train()\n",
        "    \n",
        "    # For each sentence in training set\n",
        "    for j,batch in enumerate(train_iter):\n",
        "        if j % 1000 ==0:\n",
        "          print(\"batch: \", j, \"out of \", len(train_iter))\n",
        "        text = batch.text.cuda()\n",
        "        target = batch.target.cuda()\n",
        "                \n",
        "        # Forward pass\n",
        "        text = text.t()\n",
        "        target = target.view(-1).type(torch.cuda.LongTensor)\n",
        "        output = net(text, target, hidden)\n",
        "        \n",
        "        #target = target.view(-1).type(torch.cuda.LongTensor)\n",
        "        #target = target.view(-1).type(torch.LongTensor)\n",
        "        # Compute loss\n",
        "        #loss = criterion(outputs, target)\n",
        "        \n",
        "        # Backward pass\n",
        "        optimizer.zero_grad()\n",
        "        output[0].backward()\n",
        "        nn.utils.clip_grad_norm(net.parameters(), clip)\n",
        "        optimizer.step()\n",
        "        \n",
        "        # Update loss\n",
        "        epoch_training_loss += output[0]\n",
        "\n",
        "    \n",
        "    # Save loss for plot\n",
        "    training_loss.append(epoch_training_loss/len(train_iter))\n",
        "    validation_loss.append(epoch_validation_loss/len(valid_iter))\n",
        "\n",
        "    # Print loss every 5 epochs\n",
        "    \n",
        "    print(f'Epoch {i}, training loss: {training_loss[-1]}, validation loss: {validation_loss[-1]}')\n",
        "\n",
        "\n",
        "    net.HM_LSTM.cell_1.a += 0.04\n",
        "    net.HM_LSTM.cell_2.a += 0.04 \n",
        "\n",
        "# Get first sentence in test set\n",
        "#text, target = test_iter[1]\n",
        "\n",
        "# One-hot encode input and target sequence\n",
        "# inputs_one_hot = one_hot_encode_sequence(inputs, vocab_size)\n",
        "# targets_idx = [word_to_idx[word] for word in targets]\n",
        "\n",
        "# Convert input to tensor\n",
        "# inputs_one_hot = torch.Tensor(inputs_one_hot)\n",
        "# inputs_one_hot = inputs_one_hot.permute(0, 2, 1)\n",
        "\n",
        "# Convert target to tensor\n",
        "# targets_idx = torch.LongTensor(targets_idx)\n",
        "\n",
        "# Forward pass\n",
        "# outputs = net.forward(text).cpu().data.numpy()\n",
        "\n",
        "#print('\\nInput sequence:')\n",
        "#print(text)\n",
        "\n",
        "#print('\\nTarget sequence:')\n",
        "#print(target)\n",
        "\n",
        "#print('\\nPredicted sequence:')\n",
        "#print([idx_to_word[np.argmax(output)] for output in outputs])\n",
        "\n",
        "# Plot training and validation loss\n",
        "epoch = np.arange(len(training_loss))\n",
        "plt.figure()\n",
        "plt.plot(epoch, training_loss, 'r', label='Training loss',)\n",
        "plt.plot(epoch, validation_loss, 'b', label='Validation loss')\n",
        "plt.legend()\n",
        "plt.xlabel('Epoch'), plt.ylabel('NLL')\n",
        "plt.show()"
      ],
      "execution_count": 0,
      "outputs": [
        {
          "output_type": "stream",
          "text": [
            "batch:  0 out of  1\n",
            "batch:  0 out of  5\n"
          ],
          "name": "stdout"
        },
        {
          "output_type": "stream",
          "text": [
            "\r100%|█████████▉| 399188/400000 [01:00<00:00, 8140.60it/s]"
          ],
          "name": "stderr"
        },
        {
          "output_type": "stream",
          "text": [
            "Epoch 0, training loss: 3.9195313453674316, validation loss: 3.931668519973755\n",
            "batch:  0 out of  1\n",
            "batch:  0 out of  5\n",
            "Epoch 1, training loss: 3.8737504482269287, validation loss: 3.8919034004211426\n",
            "batch:  0 out of  1\n",
            "batch:  0 out of  5\n",
            "Epoch 2, training loss: 3.7078590393066406, validation loss: 3.787393808364868\n"
          ],
          "name": "stdout"
        },
        {
          "output_type": "display_data",
          "data": {
            "image/png": "[encoded data removed]",
            "text/plain": [
              "<Figure size 432x288 with 1 Axes>"
            ]
          },
          "metadata": {
            "tags": []
          }
        }
      ]
    },
    {
      "cell_type": "code",
      "metadata": {
        "id": "QYvpKOC-gDll",
        "colab_type": "code",
        "outputId": "ca1fb504-9f40-4166-cfe8-63935a111752",
        "colab": {
          "base_uri": "https://localhost:8080/",
          "height": 289
        }
      },
      "source": [
        "!nvidia-smi"
      ],
      "execution_count": 0,
      "outputs": [
        {
          "output_type": "stream",
          "text": [
            "Tue Dec 24 10:33:55 2019       \n",
            "+-----------------------------------------------------------------------------+\n",
            "| NVIDIA-SMI 440.44       Driver Version: 418.67       CUDA Version: 10.1     |\n",
            "|-------------------------------+----------------------+----------------------+\n",
            "| GPU  Name        Persistence-M| Bus-Id        Disp.A | Volatile Uncorr. ECC |\n",
            "| Fan  Temp  Perf  Pwr:Usage/Cap|         Memory-Usage | GPU-Util  Compute M. |\n",
            "|===============================+======================+======================|\n",
            "|   0  Tesla P100-PCIE...  Off  | 00000000:00:04.0 Off |                    0 |\n",
            "| N/A   42C    P0    32W / 250W |   1657MiB / 16280MiB |      0%      Default |\n",
            "+-------------------------------+----------------------+----------------------+\n",
            "                                                                               \n",
            "+-----------------------------------------------------------------------------+\n",
            "| Processes:                                                       GPU Memory |\n",
            "|  GPU       PID   Type   Process name                             Usage      |\n",
            "|=============================================================================|\n",
            "+-----------------------------------------------------------------------------+\n"
          ],
          "name": "stdout"
        }
      ]
    },
    {
      "cell_type": "code",
      "metadata": {
        "id": "fcB5NMargFt7",
        "colab_type": "code",
        "outputId": "616edcd3-3a38-4b1d-dff0-7c52c7dd34b5",
        "colab": {
          "base_uri": "https://localhost:8080/",
          "height": 34
        }
      },
      "source": [
        "# For each sentence in test set\n",
        "test_sum=0\n",
        "for j,batch in enumerate(test_iter):\n",
        "    text = batch.text.cuda()\n",
        "    target = batch.target.cuda()\n",
        "    \n",
        "    # Forward pass\n",
        "    text = text.t()\n",
        "    target = target.view(-1).type(torch.cuda.LongTensor)\n",
        "    outputs = net(text, target, hidden)\n",
        "\n",
        "\n",
        "    #target = target.view(-1).type(torch.LongTensor)\n",
        "\n",
        "    # Compute loss\n",
        "    #loss = criterion(outputs, target)\n",
        "    \n",
        "    # calculate softmax BPC\n",
        "    #m = target.shape[0]\n",
        "    #p = softmax(outputs.detach().cpu().data.numpy())\n",
        "    #log_likelihood = -np.log2(p[range(m),target.detach().cpu().data.numpy()])\n",
        "    #loss = np.sum(log_likelihood) / m\n",
        "\n",
        "    test_sum += outputs[0]/np.log(2)\n",
        "\n",
        "mean_sum=test_sum/len(test_iter)\n",
        "\n",
        "BPC.append(mean_sum)\n",
        "print(f'Epoch {i}, BPC: {BPC[-1]}')"
      ],
      "execution_count": 0,
      "outputs": [
        {
          "output_type": "stream",
          "text": [
            "Epoch 2, BPC: 5.139392852783203\n"
          ],
          "name": "stdout"
        }
      ]
    }
  ]
}
